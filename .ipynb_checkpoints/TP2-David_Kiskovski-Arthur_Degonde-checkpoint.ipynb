{
 "cells": [
  {
   "cell_type": "markdown",
   "metadata": {},
   "source": [
    "# Reconstruction of DOSY NMR signals"
   ]
  },
  {
   "cell_type": "markdown",
   "metadata": {},
   "source": [
    "## 2-Generation of synthetic data"
   ]
  },
  {
   "cell_type": "code",
   "execution_count": 2,
   "metadata": {},
   "outputs": [],
   "source": [
    "import numpy as np\n",
    "import matplotlib.pyplot as plt\n",
    "from math import *"
   ]
  },
  {
   "cell_type": "code",
   "execution_count": 3,
   "metadata": {
    "scrolled": false
   },
   "outputs": [
    {
     "data": {
      "text/plain": [
       "[1.0,\n",
       " 1.0353218432956621,\n",
       " 1.0718913192051278,\n",
       " 1.109752496412072,\n",
       " 1.1489510001873091,\n",
       " 1.1895340673703196,\n",
       " 1.2315506032928256,\n",
       " 1.275051240713013,\n",
       " 1.3200884008314178,\n",
       " 1.3667163564620064,\n",
       " 1.414991297434576,\n",
       " 1.4649713983072858,\n",
       " 1.5167168884709228,\n",
       " 1.5702901247293772,\n",
       " 1.625755666443794,\n",
       " 1.6831803533309568,\n",
       " 1.7426333860096501,\n",
       " 1.8041864093920723,\n",
       " 1.8679135990207825,\n",
       " 1.9338917504552309,\n",
       " 2.0022003718155843,\n",
       " 2.0729217795953714,\n",
       " 2.1461411978584044,\n",
       " 2.2219468609395236,\n",
       " 2.300430119772918,\n",
       " 2.381685551976158,\n",
       " 2.465811075822603,\n",
       " 2.552908068239517,\n",
       " 2.643081486974105,\n",
       " 2.7364399970746707,\n",
       " 2.8330961018393244,\n",
       " 2.9331662783900443,\n",
       " 3.036771118035458,\n",
       " 3.1440354715914998,\n",
       " 3.255088599835058,\n",
       " 3.3700643292719286,\n",
       " 3.4891012134067725,\n",
       " 3.6123426997094312,\n",
       " 3.739937302478797,\n",
       " 3.8720387818125555,\n",
       " 4.008806328898465,\n",
       " 4.150404757850475,\n",
       " 4.297004704320841,\n",
       " 4.448782831127585,\n",
       " 4.6059220411451065,\n",
       " 4.768611697714469,\n",
       " 4.937047852839003,\n",
       " 5.111433483440167,\n",
       " 5.291978735958441,\n",
       " 5.478901179593941,\n",
       " 5.672426068491978,\n",
       " 5.872786613189482,\n",
       " 6.080224261649422,\n",
       " 6.294988990221887,\n",
       " 6.517339604882423,\n",
       " 6.747544053110695,\n",
       " 6.985879746785247,\n",
       " 7.232633896483535,\n",
       " 7.488103857590023,\n",
       " 7.752597488629461,\n",
       " 8.026433522257175,\n",
       " 8.309941949353393,\n",
       " 8.603464416684504,\n",
       " 8.907354638610439,\n",
       " 9.221978823334327,\n",
       " 9.547716114208058,\n",
       " 9.884959046625584,\n",
       " 10.23411402105453,\n",
       " 10.595601792776158,\n",
       " 10.969857978923836,\n",
       " 11.357333583431052,\n",
       " 11.758495540521565,\n",
       " 12.173827277396612,\n",
       " 12.603829296797272,\n",
       " 13.049019780144022,\n",
       " 13.509935211980272,\n",
       " 13.987131026472381,\n",
       " 14.481182276745333,\n",
       " 14.99268432786046,\n",
       " 15.522253574270477,\n",
       " 16.070528182616385,\n",
       " 16.638168860761283,\n",
       " 17.22585965398786,\n",
       " 17.834308769319097,\n",
       " 18.46424942895544,\n",
       " 19.116440753857017,\n",
       " 19.791668678535572,\n",
       " 20.49074689815847,\n",
       " 21.2145178491063,\n",
       " 21.963853724165453,\n",
       " 22.73965752357927,\n",
       " 23.542864143224175,\n",
       " 24.374441501222204,\n",
       " 25.23539170434765,\n",
       " 26.12675225563328,\n",
       " 27.049597304631348,\n",
       " 28.005038941836304,\n",
       " 28.994228538828764,\n",
       " 30.01835813575588,\n",
       " 31.078661877820128,\n",
       " 32.17641750250736,\n",
       " 33.31294787934673,\n",
       " 34.48962260405759,\n",
       " 35.707859649004625,\n",
       " 36.96912707195027,\n",
       " 38.274944785163115,\n",
       " 39.62688638701477,\n",
       " 41.02658105827194,\n",
       " 42.47571552536898,\n",
       " 43.97603609302719,\n",
       " 45.5293507486695,\n",
       " 47.13753134116725,\n",
       " 48.802515836544295,\n",
       " 50.52631065335679,\n",
       " 52.3109930805626,\n",
       " 54.15871378079473,\n",
       " 56.07169938205458,\n",
       " 58.052255160948995,\n",
       " 60.10276782070383,\n",
       " 62.2257083673023,\n",
       " 64.42363508721373,\n",
       " 66.69919663030122,\n",
       " 69.05513520162327,\n",
       " 71.49428986597577,\n",
       " 74.01959996915643,\n",
       " 76.63410868007458,\n",
       " 79.34096665797492,\n",
       " 82.14343584919426,\n",
       " 85.04489341802679,\n",
       " 88.04883581643462,\n",
       " 91.15888299750821,\n",
       " 94.3787827777538,\n",
       " 97.71241535346496,\n",
       " 101.16379797662071,\n",
       " 104.73708979594494,\n",
       " 108.436596868961,\n",
       " 112.26677735108133,\n",
       " 116.23224686798522,\n",
       " 120.33778407775893,\n",
       " 124.58833642950076,\n",
       " 128.98902612533084,\n",
       " 133.54515629298984,\n",
       " 138.26221737646554,\n",
       " 143.14589375234783,\n",
       " 148.2020705798858,\n",
       " 153.43684089300118,\n",
       " 158.8565129428052,\n",
       " 164.46761779946632,\n",
       " 170.27691722258993,\n",
       " 176.2914118095947,\n",
       " 182.51834943190443,\n",
       " 188.9652339691209,\n",
       " 195.63983435170633,\n",
       " 202.5501939230668,\n",
       " 209.70464013232316,\n",
       " 217.1117945694503,\n",
       " 224.78058335487262,\n",
       " 232.72024789604077,\n",
       " 240.9403560239526,\n",
       " 249.45081352303148,\n",
       " 258.26187606826744,\n",
       " 267.3841615839948,\n",
       " 276.8286630392064,\n",
       " 286.6067616948252,\n",
       " 296.7302408188867,\n",
       " 307.21129988617554,\n",
       " 318.062569279412,\n",
       " 329.2971255097148,\n",
       " 340.9285069746813,\n",
       " 352.97073027306504,\n",
       " 365.4383070957254,\n",
       " 378.34626171319303,\n",
       " 391.710149080926,\n",
       " 405.5460735840826,\n",
       " 419.870708444391,\n",
       " 434.7013158125021,\n",
       " 450.05576757004985,\n",
       " 465.95256686646815,\n",
       " 482.4108704165366,\n",
       " 499.450511585514,\n",
       " 517.0920242896754,\n",
       " 535.3566677410726,\n",
       " 554.2664520663105,\n",
       " 573.8441648302389,\n",
       " 594.1133984965034,\n",
       " 615.0985788580501,\n",
       " 636.8249944718581,\n",
       " 659.3188271333546,\n",
       " 682.6071834272387,\n",
       " 706.718127392749,\n",
       " 731.6807143427196,\n",
       " 757.5250258771906,\n",
       " 784.2822061337679,\n",
       " 811.984499318401,\n",
       " 840.6652885618323,\n",
       " 870.3591361485161,\n",
       " 901.101825166501,\n",
       " 932.9304026284682,\n",
       " 965.88322411587,\n",
       " 999.9999999999998]"
      ]
     },
     "execution_count": 3,
     "metadata": {},
     "output_type": "execute_result"
    }
   ],
   "source": [
    "sign = np.loadtxt(\"x.txt\")\n",
    "N = len(sign)\n",
    "T = []\n",
    "for i in range(N):\n",
    "    T.append(np.exp((-i-1+1)*np.log(1/1000)/199))\n",
    "T"
   ]
  },
  {
   "cell_type": "code",
   "execution_count": 4,
   "metadata": {
    "scrolled": true
   },
   "outputs": [
    {
     "data": {
      "text/plain": [
       "[<matplotlib.lines.Line2D at 0x28109769710>]"
      ]
     },
     "execution_count": 4,
     "metadata": {},
     "output_type": "execute_result"
    },
    {
     "data": {
      "image/png": "[encoded data removed]",
      "text/plain": [
       "<Figure size 432x288 with 1 Axes>"
      ]
     },
     "metadata": {
      "needs_background": "light"
     },
     "output_type": "display_data"
    }
   ],
   "source": [
    "#Displaying the original signal as a function of T\n",
    "plt.plot(np.log(T), sign)"
   ]
  },
  {
   "cell_type": "code",
   "execution_count": 5,
   "metadata": {},
   "outputs": [
    {
     "data": {
      "text/plain": [
       "[0.0,\n",
       " 0.030612244897959183,\n",
       " 0.061224489795918366,\n",
       " 0.09183673469387754,\n",
       " 0.12244897959183673,\n",
       " 0.15306122448979592,\n",
       " 0.18367346938775508,\n",
       " 0.21428571428571427,\n",
       " 0.24489795918367346,\n",
       " 0.2755102040816327,\n",
       " 0.30612244897959184,\n",
       " 0.336734693877551,\n",
       " 0.36734693877551017,\n",
       " 0.3979591836734694,\n",
       " 0.42857142857142855,\n",
       " 0.45918367346938777,\n",
       " 0.4897959183673469,\n",
       " 0.5204081632653061,\n",
       " 0.5510204081632654,\n",
       " 0.5816326530612245,\n",
       " 0.6122448979591837,\n",
       " 0.6428571428571428,\n",
       " 0.673469387755102,\n",
       " 0.7040816326530612,\n",
       " 0.7346938775510203,\n",
       " 0.7653061224489797,\n",
       " 0.7959183673469388,\n",
       " 0.8265306122448979,\n",
       " 0.8571428571428571,\n",
       " 0.8877551020408163,\n",
       " 0.9183673469387755,\n",
       " 0.9489795918367347,\n",
       " 0.9795918367346939,\n",
       " 1.010204081632653,\n",
       " 1.0408163265306123,\n",
       " 1.0714285714285714,\n",
       " 1.1020408163265307,\n",
       " 1.1326530612244898,\n",
       " 1.163265306122449,\n",
       " 1.193877551020408,\n",
       " 1.2244897959183674,\n",
       " 1.2551020408163267,\n",
       " 1.2857142857142856,\n",
       " 1.316326530612245,\n",
       " 1.346938775510204,\n",
       " 1.3775510204081634,\n",
       " 1.4081632653061225,\n",
       " 1.4387755102040816,\n",
       " 1.4693877551020407,\n",
       " 1.5]"
      ]
     },
     "execution_count": 5,
     "metadata": {},
     "output_type": "execute_result"
    }
   ],
   "source": [
    "#Creating t\n",
    "t = []\n",
    "M = 50\n",
    "tmin = 0 \n",
    "tmax = 1.5\n",
    "\n",
    "for m in range(M):\n",
    "    t.append(tmin+(m/(M-1)*tmax))\n",
    "t"
   ]
  },
  {
   "cell_type": "code",
   "execution_count": 6,
   "metadata": {},
   "outputs": [
    {
     "data": {
      "text/plain": [
       "array([[1.00000000e+00, 1.00000000e+00, 1.00000000e+00, ...,\n",
       "        1.00000000e+00, 1.00000000e+00, 1.00000000e+00],\n",
       "       [9.69851565e-01, 9.68803450e-01, 9.67719507e-01, ...,\n",
       "        3.95314811e-13, 1.44159827e-13, 5.07307125e-14],\n",
       "       [9.40612058e-01, 9.38580124e-01, 9.36481044e-01, ...,\n",
       "        1.56273800e-25, 2.07820558e-26, 2.57360519e-27],\n",
       "       ...,\n",
       "       [2.37218052e-01, 2.25463789e-01, 2.13907633e-01, ...,\n",
       "        0.00000000e+00, 0.00000000e+00, 0.00000000e+00],\n",
       "       [2.30066299e-01, 2.18430097e-01, 2.07002589e-01, ...,\n",
       "        0.00000000e+00, 0.00000000e+00, 0.00000000e+00],\n",
       "       [2.23130160e-01, 2.11615831e-01, 2.00320443e-01, ...,\n",
       "        0.00000000e+00, 0.00000000e+00, 0.00000000e+00]])"
      ]
     },
     "execution_count": 6,
     "metadata": {},
     "output_type": "execute_result"
    }
   ],
   "source": [
    "#Constructing matrix K\n",
    "K = np.zeros((M, N))\n",
    "for j in range(M):\n",
    "    \n",
    "    for i in range(N):\n",
    "        \n",
    "        \n",
    "        K[j,i] = np.exp(-T[i]*t[j])\n",
    "K   "
   ]
  },
  {
   "cell_type": "code",
   "execution_count": 7,
   "metadata": {},
   "outputs": [
    {
     "data": {
      "text/plain": [
       "[<matplotlib.lines.Line2D at 0x2810980e198>]"
      ]
     },
     "execution_count": 7,
     "metadata": {},
     "output_type": "execute_result"
    },
    {
     "data": {
      "image/png": "[encoded data removed]",
      "text/plain": [
       "<Figure size 432x288 with 1 Axes>"
      ]
     },
     "metadata": {
      "needs_background": "light"
     },
     "output_type": "display_data"
    }
   ],
   "source": [
    "#Simulation of the noisy data\n",
    "np.random.seed(32)\n",
    "noise = np.random.normal(0,(0.01*np.dot(K,sign))**2)\n",
    "y = np.dot(K,sign) + noise \n",
    "plt.plot(t,y)"
   ]
  },
  {
   "cell_type": "markdown",
   "metadata": {},
   "source": [
    "## 3-Comparison of regularization strategies"
   ]
  },
  {
   "cell_type": "markdown",
   "metadata": {},
   "source": [
    "### Smoothness prior"
   ]
  },
  {
   "cell_type": "markdown",
   "metadata": {},
   "source": [
    "$(\\forall x \\in \\mathbb{R}^{\\mathbb{N}})\\; g(x) = \\frac{1}{2}||Dx||^2$"
   ]
  },
  {
   "cell_type": "markdown",
   "metadata": {},
   "source": [
    "The cost function is differentiable :\n",
    "\n",
    "__First differenciation__:\n",
    "$$K^T(Kx - y) + \\beta D^TDx$$\n",
    "\n",
    "__Second differenciation__ : \n",
    "$$K^TK + \\beta D'D$$\n",
    "\n",
    "This hessian matrix is positive semi definite, the problem is convex, to find a closed form solution we must show that : $||Kx||^2 + \\beta ||Dx||^2 $ is invertible.\n",
    "\n",
    "Let's consider $x$ such that $||Kx||^2 + \\beta ||Dx||^2  = 0$, then we must have:\n",
    "$$Dx = O$$\n",
    "$$\\forall k, \\, x^k-x^{k-1} = 0$$\n",
    "then there exists $\\alpha$ such that $$x = \\alpha (1, 1,...,1)$$\n",
    "$$x \\notin zer(K)$$\n",
    "Then the matrix is invertible (positive definite)."
   ]
  },
  {
   "cell_type": "code",
   "execution_count": 8,
   "metadata": {
    "scrolled": true
   },
   "outputs": [],
   "source": [
    "#Computing D\n",
    "D= np.zeros((N,N))\n",
    "for i in range(N):\n",
    "    if i == 0:\n",
    "        D[i][i] =1\n",
    "        D[i][N-1] = -1\n",
    "    else:\n",
    "        D[i][i]=1\n",
    "        D[i][i-1]= -1"
   ]
  },
  {
   "cell_type": "code",
   "execution_count": 9,
   "metadata": {},
   "outputs": [],
   "source": [
    "#Closed form solution\n",
    "b = 0.1\n",
    "x = np.dot(np.dot((np.dot(K.T,K)+b*np.dot(D.T,D)),K.T),y)"
   ]
  },
  {
   "cell_type": "code",
   "execution_count": 10,
   "metadata": {},
   "outputs": [],
   "source": [
    "#Computing normalized quadratic error \n",
    "def calc_error(b,K,D,y):\n",
    "    x = np.dot(np.dot(np.linalg.inv(np.dot(K.T,K)+b*np.dot(D.T,D)),K.T),y)\n",
    "    e = np.linalg.norm(x - sign)**2/np.linalg.norm(sign)**2\n",
    "    print('For beta ={0}'.format(b))\n",
    "    print('The normalized quadratic error is :{0}'.format(e))\n",
    "    return e "
   ]
  },
  {
   "cell_type": "code",
   "execution_count": 11,
   "metadata": {
    "scrolled": true
   },
   "outputs": [
    {
     "name": "stdout",
     "output_type": "stream",
     "text": [
      "For beta =1\n",
      "The normalized quadratic error is :0.2752291529420403\n",
      "For beta =0.1\n",
      "The normalized quadratic error is :0.13763181559731255\n",
      "For beta =0.01\n",
      "The normalized quadratic error is :0.12943023565230405\n",
      "For beta =0.001\n",
      "The normalized quadratic error is :0.12796689276109505\n",
      "For beta =0.0001\n",
      "The normalized quadratic error is :0.10888894241174002\n",
      "For beta =1e-05\n",
      "The normalized quadratic error is :0.057866494084898\n",
      "For beta =1e-06\n",
      "The normalized quadratic error is :0.20326874030463551\n"
     ]
    }
   ],
   "source": [
    "#beta tuning\n",
    "from sklearn.model_selection import ParameterGrid\n",
    "param_grid = {'b': [1, 0.1, 0.01, 0.001, 0.0001, 0.00001, 0.000001]}\n",
    "\n",
    "grid = ParameterGrid(param_grid)\n",
    "\n",
    "for params in grid:\n",
    "    calc_error(params['b'],K,D,y)"
   ]
  },
  {
   "cell_type": "code",
   "execution_count": 12,
   "metadata": {},
   "outputs": [
    {
     "data": {
      "text/plain": [
       "[<matplotlib.lines.Line2D at 0x2810a491b70>]"
      ]
     },
     "execution_count": 12,
     "metadata": {},
     "output_type": "execute_result"
    },
    {
     "data": {
      "image/png": "[encoded data removed]",
      "text/plain": [
       "<Figure size 432x288 with 1 Axes>"
      ]
     },
     "metadata": {
      "needs_background": "light"
     },
     "output_type": "display_data"
    }
   ],
   "source": [
    "b=0.00001\n",
    "xs = np.dot(np.dot(np.linalg.inv(np.dot(K.T,K)+b*np.dot(D.T,D)),K.T),y)\n",
    "\n",
    "#Displaying the restored signal as a function of T\n",
    "plt.plot(np.log(T), xs)"
   ]
  },
  {
   "cell_type": "markdown",
   "metadata": {},
   "source": [
    "### Smoothness prior + constraints"
   ]
  },
  {
   "cell_type": "markdown",
   "metadata": {},
   "source": [
    "In this case the indicator function is not differentiable, we will use the projected Forward Backward algorithm to find a minimizer. "
   ]
  },
  {
   "cell_type": "code",
   "execution_count": 13,
   "metadata": {},
   "outputs": [],
   "source": [
    "def gradient_descent(init, steps,relax, grad, proj=lambda x: x):\n",
    "    \"\"\"Projected gradient descent.\n",
    "    \n",
    "    Inputs:\n",
    "        initial: starting point\n",
    "        steps: list of scalar step sizes\n",
    "        relax : list of scalar relaxations\n",
    "        grad: function mapping points to gradients\n",
    "        proj (optional): function mapping points to points\n",
    "        \n",
    "    Returns:\n",
    "        List of all points computed by projected gradient descent.\n",
    "    \"\"\"\n",
    "    xs = init\n",
    "    for step in steps:\n",
    "        ys = xs - step * grad(xs)\n",
    "        xs = xs + relax * (proj(ys) - xs) \n",
    "    return ys"
   ]
  },
  {
   "cell_type": "code",
   "execution_count": 14,
   "metadata": {},
   "outputs": [],
   "source": [
    "x0 = np.random.sample(N)\n",
    "b = 0.00001"
   ]
  },
  {
   "cell_type": "code",
   "execution_count": 15,
   "metadata": {},
   "outputs": [],
   "source": [
    "def gradient(K, D, b, x, y):\n",
    "    return np.dot(K.T,np.dot(K,x) - y) + b * np.dot(D.T,np.dot(D,x))\n",
    "\n",
    "def project(x, xmin, xmax):\n",
    "    return np.clip(x,xmin,xmax)\n",
    "\n",
    "xmin = min(sign)\n",
    "xmax = max(sign)\n",
    "grad = lambda x : gradient(K,D,b,x,y)\n",
    "proj = lambda x : project(x, xmin, xmax)"
   ]
  },
  {
   "cell_type": "code",
   "execution_count": 296,
   "metadata": {},
   "outputs": [],
   "source": [
    "xs = gradient_descent(x0,[0.01]*100000,0.3,grad, proj)"
   ]
  },
  {
   "cell_type": "code",
   "execution_count": 297,
   "metadata": {
    "scrolled": true
   },
   "outputs": [
    {
     "data": {
      "text/plain": [
       "0.0785491895017635"
      ]
     },
     "execution_count": 297,
     "metadata": {},
     "output_type": "execute_result"
    }
   ],
   "source": [
    "e = np.linalg.norm(xs - sign)**2/np.linalg.norm(sign)**2\n",
    "e"
   ]
  },
  {
   "cell_type": "code",
   "execution_count": 298,
   "metadata": {},
   "outputs": [
    {
     "data": {
      "text/plain": [
       "[<matplotlib.lines.Line2D at 0x1688a03df60>]"
      ]
     },
     "execution_count": 298,
     "metadata": {},
     "output_type": "execute_result"
    },
    {
     "data": {
      "image/png": "[encoded data removed]",
      "text/plain": [
       "<Figure size 432x288 with 1 Axes>"
      ]
     },
     "metadata": {
      "needs_background": "light"
     },
     "output_type": "display_data"
    }
   ],
   "source": [
    "#Displaying the restored signal as a function of T\n",
    "plt.plot(np.log(T), xs)"
   ]
  },
  {
   "cell_type": "markdown",
   "metadata": {},
   "source": [
    "### Sparsity prior"
   ]
  },
  {
   "cell_type": "markdown",
   "metadata": {},
   "source": [
    "The problem is still convex, we also need to compute the forward backward algorithm to find a minimizer."
   ]
  },
  {
   "cell_type": "code",
   "execution_count": 16,
   "metadata": {},
   "outputs": [],
   "source": [
    "#calculate proxf\n",
    "def proxlf(x,l):\n",
    "    prox =  np.sign(x)*np.maximum(abs(x) - l,0)\n",
    "    return prox\n",
    "\n",
    "#Computing the gradient \n",
    "def gradient2(K,x, y):\n",
    "    return np.dot(K.T,np.dot(K,x) - y)\n",
    "\n",
    "gam = 0.01\n",
    "b=0.1\n",
    "l = b * gam\n",
    "\n",
    "grad = lambda x : gradient2(K,x,y)\n",
    "prox = lambda x : proxlf(x,l)"
   ]
  },
  {
   "cell_type": "code",
   "execution_count": 17,
   "metadata": {},
   "outputs": [],
   "source": [
    "xs = gradient_descent(x0,[gam]*100000,0.3,grad,prox)"
   ]
  },
  {
   "cell_type": "code",
   "execution_count": 18,
   "metadata": {},
   "outputs": [
    {
     "data": {
      "text/plain": [
       "1.6551164016922932"
      ]
     },
     "execution_count": 18,
     "metadata": {},
     "output_type": "execute_result"
    }
   ],
   "source": [
    "e = np.linalg.norm(xs - sign)**2/np.linalg.norm(sign)**2\n",
    "e"
   ]
  },
  {
   "cell_type": "code",
   "execution_count": 19,
   "metadata": {
    "scrolled": true
   },
   "outputs": [
    {
     "data": {
      "text/plain": [
       "[<matplotlib.lines.Line2D at 0x2810a4f9668>]"
      ]
     },
     "execution_count": 19,
     "metadata": {},
     "output_type": "execute_result"
    },
    {
     "data": {
      "image/png": "[encoded data removed]",
      "text/plain": [
       "<Figure size 432x288 with 1 Axes>"
      ]
     },
     "metadata": {
      "needs_background": "light"
     },
     "output_type": "display_data"
    }
   ],
   "source": [
    "#Displaying the restored signal as a function of T\n",
    "plt.plot(np.log(T), xs)"
   ]
  },
  {
   "cell_type": "markdown",
   "metadata": {},
   "source": [
    "## Part II - Maximum entropy regularization"
   ]
  },
  {
   "cell_type": "markdown",
   "metadata": {},
   "source": [
    "1- ent is convex,proper, lower-semicontinuous as a sum of functions that are convex, proper and lower-semicontinuous.\n",
    "It is not differentiable. "
   ]
  },
  {
   "cell_type": "markdown",
   "metadata": {},
   "source": [
    "2-The optimization problem has a solution as it implies functions in $\\Gamma_0$, it is not necessarily unique."
   ]
  },
  {
   "cell_type": "markdown",
   "metadata": {},
   "source": [
    "3-$x \\in \\mathbb{R}$ , $prox_{\\gamma \\phi(x)} = argmin \\frac{1}{2} ||x - z||^2 + \\gamma z ln(z)$\n",
    "$$\\frac{z-x}{\\gamma} + 1 + ln(z) = 0 $$\n",
    "$$\\frac{z}{\\gamma} + ln(frac{z}{\\gamma}) = \\frac{x}{\\gamma} - 1 - ln(\\gamma)$$\n",
    "$$\\frac{z}{\\gamma} e^{\\frac{z}{\\gamma}} = e^{\\frac{x}{\\gamma}} - 1 - ln(\\gamma)$$\n",
    "$$z = \\gamma W(\\frac{1}{\\gamma}e^{(\\frac{x}{\\gamma}-1)})$$"
   ]
  },
  {
   "cell_type": "code",
   "execution_count": 168,
   "metadata": {},
   "outputs": [],
   "source": [
    "#Proximity function of ent with Lambert function \n",
    "import scipy.special.lambertw as lambertw"
   ]
  },
  {
   "cell_type": "code",
   "execution_count": 169,
   "metadata": {},
   "outputs": [],
   "source": [
    "def proxent(gamma,N, x):\n",
    "    s = np.zeros(N)\n",
    "    for i in range(N):\n",
    "        v=np.zeros(N)\n",
    "        v[i] = 1\n",
    "        xs = x[i]\n",
    "        u = xs/gamma -1 - log(gamma)\n",
    "        if u >100:\n",
    "            p =gamma*( u - log(u))\n",
    "        elif u < -20:\n",
    "            p = 0\n",
    "        else:\n",
    "            p = gamma * lambertw(u)\n",
    "        q = p * v\n",
    "        s = s + q\n",
    "    return s"
   ]
  },
  {
   "cell_type": "code",
   "execution_count": 170,
   "metadata": {},
   "outputs": [],
   "source": [
    "#Computing the gradient \n",
    "def gradient2(K,x, y):\n",
    "    return np.dot(K.T,np.dot(K,x) - y)"
   ]
  },
  {
   "cell_type": "code",
   "execution_count": 290,
   "metadata": {},
   "outputs": [],
   "source": [
    "#Forward Backward \n",
    "gam = 0.01\n",
    "b=0.000001\n",
    "l = b * gam\n",
    "prox = lambda x : proxent(l, N, x)\n",
    "grad = lambda x : gradient2(K,x,y)"
   ]
  },
  {
   "cell_type": "code",
   "execution_count": 291,
   "metadata": {},
   "outputs": [
    {
     "name": "stderr",
     "output_type": "stream",
     "text": [
      "C:\\Users\\Arthur\\Python_Projects\\Python3\\lib\\site-packages\\ipykernel_launcher.py:9: ComplexWarning: Casting complex values to real discards the imaginary part\n",
      "  if __name__ == '__main__':\n"
     ]
    }
   ],
   "source": [
    "xs = gradient_descent(x0,[gam]*10000,0.3,grad,prox)"
   ]
  },
  {
   "cell_type": "code",
   "execution_count": 292,
   "metadata": {},
   "outputs": [
    {
     "data": {
      "text/plain": [
       "0.1216943893766176"
      ]
     },
     "execution_count": 292,
     "metadata": {},
     "output_type": "execute_result"
    }
   ],
   "source": [
    "e = np.linalg.norm(xs - sign)**2/np.linalg.norm(sign)**2\n",
    "e"
   ]
  },
  {
   "cell_type": "code",
   "execution_count": 293,
   "metadata": {},
   "outputs": [
    {
     "data": {
      "text/plain": [
       "[<matplotlib.lines.Line2D at 0x2810c574240>]"
      ]
     },
     "execution_count": 293,
     "metadata": {},
     "output_type": "execute_result"
    },
    {
     "data": {
      "image/png": "[encoded data removed]",
      "text/plain": [
       "<Figure size 432x288 with 1 Axes>"
      ]
     },
     "metadata": {
      "needs_background": "light"
     },
     "output_type": "display_data"
    }
   ],
   "source": [
    "#Displaying the restored signal as a function of T\n",
    "plt.plot(np.log(T), xs)"
   ]
  },
  {
   "cell_type": "code",
   "execution_count": 294,
   "metadata": {},
   "outputs": [],
   "source": [
    "#Douglas Rachford \n",
    "Id = np.eye(N,N)"
   ]
  },
  {
   "cell_type": "code",
   "execution_count": 202,
   "metadata": {},
   "outputs": [],
   "source": [
    "def prox_q(x,K,y,l):\n",
    "    prox = np.dot(np.linalg.inv(Id+np.dot(K.T,K)*l),x+l*np.dot((K.T),y))\n",
    "    return prox"
   ]
  },
  {
   "cell_type": "code",
   "execution_count": 203,
   "metadata": {},
   "outputs": [],
   "source": [
    "def d_r(init, steps,relax, proj=lambda x: x, proj1 = lambda x: x):\n",
    "   \n",
    "    xs = init\n",
    "    for step in steps:\n",
    "        ys = proj(xs)\n",
    "        zs = proj1(2*ys-xs)\n",
    "        xs = xs + relax * (zs - ys) \n",
    "        #print(zs-ys)\n",
    "    return ys"
   ]
  },
  {
   "cell_type": "code",
   "execution_count": 286,
   "metadata": {},
   "outputs": [],
   "source": [
    "gam = 0.01\n",
    "b = 0.000001\n",
    "l = gam * b\n",
    "proxa = lambda x : prox_q(x,K,y,gam)\n",
    "prox = lambda x : proxent(l,N,x)"
   ]
  },
  {
   "cell_type": "code",
   "execution_count": 287,
   "metadata": {},
   "outputs": [
    {
     "name": "stderr",
     "output_type": "stream",
     "text": [
      "C:\\Users\\Arthur\\Python_Projects\\Python3\\lib\\site-packages\\ipykernel_launcher.py:9: ComplexWarning: Casting complex values to real discards the imaginary part\n",
      "  if __name__ == '__main__':\n"
     ]
    }
   ],
   "source": [
    "xs = d_r(x0,[gam]*10000,0.3,prox, proxa)"
   ]
  },
  {
   "cell_type": "code",
   "execution_count": 288,
   "metadata": {},
   "outputs": [
    {
     "data": {
      "text/plain": [
       "0.19423609923387092"
      ]
     },
     "execution_count": 288,
     "metadata": {},
     "output_type": "execute_result"
    }
   ],
   "source": [
    "er = np.linalg.norm(xs - sign)**2/np.linalg.norm(sign)**2\n",
    "er"
   ]
  },
  {
   "cell_type": "code",
   "execution_count": 289,
   "metadata": {
    "scrolled": true
   },
   "outputs": [
    {
     "name": "stderr",
     "output_type": "stream",
     "text": [
      "C:\\Users\\Arthur\\Python_Projects\\Python3\\lib\\site-packages\\numpy\\core\\numeric.py:501: ComplexWarning: Casting complex values to real discards the imaginary part\n",
      "  return array(a, dtype, copy=False, order=order)\n"
     ]
    },
    {
     "data": {
      "text/plain": [
       "[<matplotlib.lines.Line2D at 0x2810c517e80>]"
      ]
     },
     "execution_count": 289,
     "metadata": {},
     "output_type": "execute_result"
    },
    {
     "data": {
      "image/png": "[encoded data removed]",
      "text/plain": [
       "<Figure size 432x288 with 1 Axes>"
      ]
     },
     "metadata": {
      "needs_background": "light"
     },
     "output_type": "display_data"
    }
   ],
   "source": [
    "#Displaying the restored signal as a function of T\n",
    "plt.plot(np.log(T), xs)"
   ]
  },
  {
   "cell_type": "code",
   "execution_count": 249,
   "metadata": {},
   "outputs": [],
   "source": [
    "#Find the best beta\n",
    "def calc_error2(b, gam, relax, K,x0,y):\n",
    "    l = b* gam\n",
    "    grad = lambda x : gradient2(K,x,y)\n",
    "    proxa = lambda x : prox_q(x,K,y,gam)\n",
    "    prox = lambda x : proxent(l,N,x)\n",
    "    xsfw = gradient_descent(x0,[gam]*10000,relax,grad,prox)\n",
    "    xsdr = d_r(x0,[gam]*10000,relax,prox, proxa)\n",
    "    erfw = np.linalg.norm(xsfw - sign)**2/np.linalg.norm(sign)**2\n",
    "    erdr = np.linalg.norm(xsdr - sign)**2/np.linalg.norm(sign)**2\n",
    "    print('For beta ={0}'.format(b))\n",
    "    print('The normalized quadratic error for FW is :{0}'.format(erfw))\n",
    "    print('The normalized quadratic error for DR is :{0}'.format(erdr))\n",
    "    return (erfw,erdr)"
   ]
  },
  {
   "cell_type": "code",
   "execution_count": 250,
   "metadata": {
    "scrolled": false
   },
   "outputs": [
    {
     "name": "stdout",
     "output_type": "stream",
     "text": [
      "For beta =10\n",
      "The normalized quadratic error for FW is :54.678732882581194\n",
      "The normalized quadratic error for DR is :22.269722208671293\n"
     ]
    },
    {
     "name": "stderr",
     "output_type": "stream",
     "text": [
      "C:\\Users\\Arthur\\Python_Projects\\Python3\\lib\\site-packages\\ipykernel_launcher.py:9: ComplexWarning: Casting complex values to real discards the imaginary part\n",
      "  if __name__ == '__main__':\n"
     ]
    },
    {
     "name": "stdout",
     "output_type": "stream",
     "text": [
      "For beta =1\n",
      "The normalized quadratic error for FW is :2.331688527633098\n",
      "The normalized quadratic error for DR is :1.080211037690296\n",
      "For beta =0.1\n",
      "The normalized quadratic error for FW is :1.5573143583095\n",
      "The normalized quadratic error for DR is :5.24839763154327\n",
      "For beta =0.01\n",
      "The normalized quadratic error for FW is :2.5191146903787254\n",
      "The normalized quadratic error for DR is :21.736247212752104\n",
      "For beta =0.001\n",
      "The normalized quadratic error for FW is :0.42203201996230627\n",
      "The normalized quadratic error for DR is :4.018819582453165\n",
      "For beta =0.0001\n",
      "The normalized quadratic error for FW is :0.3107026543761809\n",
      "The normalized quadratic error for DR is :1.833448107122619\n",
      "For beta =1e-05\n",
      "The normalized quadratic error for FW is :0.12320952176037268\n",
      "The normalized quadratic error for DR is :0.22796725033216844\n",
      "For beta =1e-06\n",
      "The normalized quadratic error for FW is :0.1216943893766176\n",
      "The normalized quadratic error for DR is :0.19423609923387092\n"
     ]
    }
   ],
   "source": [
    "param_grid = {'b': [10, 1, 0.1, 0.01, 0.001, 0.0001, 0.00001, 0.000001]}\n",
    "grid = ParameterGrid(param_grid)\n",
    "\n",
    "for params in grid:\n",
    "    calc_error2(params['b'],0.01,0.3, K, x0, y)"
   ]
  },
  {
   "cell_type": "markdown",
   "metadata": {},
   "source": [
    "6- The best choice for beta in term of reconstruction error seems to be $ \\beta = 10^{-6}$"
   ]
  },
  {
   "cell_type": "markdown",
   "metadata": {},
   "source": [
    "7-The errors obtained using the maximum entropy regularization were found to be lower than using the previous regularizations functions. Although the plots show peaks which were absent in the previous plots for higher values of T."
   ]
  },
  {
   "cell_type": "markdown",
   "metadata": {},
   "source": [
    "### PPXA algorithm"
   ]
  },
  {
   "cell_type": "markdown",
   "metadata": {},
   "source": [
    "Now we try to minimize ent(x) with $Kx$ in the Ball : $B(y,\\sigma \\sqrt{M \\eta})$"
   ]
  },
  {
   "cell_type": "markdown",
   "metadata": {},
   "source": [
    "With Moreau decomposition, we find that it is equivalent to solving :\n",
    "$$argmin \\frac{1}{2}||Kx-y||^2 + \\sigma \\sqrt{M \\eta} ||Kx||^2$$"
   ]
  },
  {
   "cell_type": "code",
   "execution_count": 251,
   "metadata": {},
   "outputs": [],
   "source": [
    "eta = 1\n",
    "L = np.dot(np.linalg.inv(np.dot(K.T,K)+ Id * 2 * 0.01* np.sqrt(M*eta)),K.T)"
   ]
  },
  {
   "cell_type": "code",
   "execution_count": 295,
   "metadata": {},
   "outputs": [],
   "source": [
    "def PPXA(init, L, steps,relax, proj=lambda x: x):\n",
    "    xs = init\n",
    "    vs = np.dot(np.linalg.inv(np.dot(L.T,L)),np.dot(L.T,xs))\n",
    "    for step in steps:\n",
    "        for i in range(m):\n",
    "            ys = proj(xs)\n",
    "            cs = np.dot(np.linalg.inv(np.dot(L.T,L)),np.dot(L.T,ys))\n",
    "            xs = xs + relax * (np.dot(L,(2*cs - vs))-ys )\n",
    "            vs = vs + relax * (cs-vs)\n",
    "    return vs"
   ]
  },
  {
   "cell_type": "code",
   "execution_count": 316,
   "metadata": {
    "scrolled": true
   },
   "outputs": [
    {
     "name": "stderr",
     "output_type": "stream",
     "text": [
      "C:\\Users\\Arthur\\Python_Projects\\Python3\\lib\\site-packages\\ipykernel_launcher.py:9: ComplexWarning: Casting complex values to real discards the imaginary part\n",
      "  if __name__ == '__main__':\n"
     ]
    }
   ],
   "source": [
    "gam = 0.01\n",
    "prox = lambda x : proxent(gam,N,x)\n",
    "\n",
    "xs = PPXA(x0, L , [gam]*100,0.2, prox)"
   ]
  },
  {
   "cell_type": "code",
   "execution_count": 317,
   "metadata": {
    "scrolled": true
   },
   "outputs": [],
   "source": [
    "xspp = np.dot(L,xs)"
   ]
  },
  {
   "cell_type": "code",
   "execution_count": 318,
   "metadata": {},
   "outputs": [
    {
     "data": {
      "text/plain": [
       "nan"
      ]
     },
     "execution_count": 318,
     "metadata": {},
     "output_type": "execute_result"
    }
   ],
   "source": [
    "er = np.linalg.norm(xspp - sign)**2/np.linalg.norm(sign)**2\n",
    "er"
   ]
  }
 ],
 "metadata": {
  "kernelspec": {
   "display_name": "Python 3",
   "language": "python",
   "name": "python3"
  },
  "language_info": {
   "codemirror_mode": {
    "name": "ipython",
    "version": 3
   },
   "file_extension": ".py",
   "mimetype": "text/x-python",
   "name": "python",
   "nbconvert_exporter": "python",
   "pygments_lexer": "ipython3",
   "version": "3.6.7"
  }
 },
 "nbformat": 4,
 "nbformat_minor": 2
}
