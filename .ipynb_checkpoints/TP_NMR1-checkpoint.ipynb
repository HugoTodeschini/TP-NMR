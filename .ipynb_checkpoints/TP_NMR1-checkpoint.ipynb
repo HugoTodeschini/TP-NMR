{
 "cells": [
  {
   "cell_type": "markdown",
   "metadata": {},
   "source": [
    "<h1>Generation of synthetic data</h1>"
   ]
  },
  {
   "cell_type": "code",
   "execution_count": 48,
   "metadata": {},
   "outputs": [],
   "source": [
    "import numpy as np\n",
    "import matplotlib.pyplot as plt\n",
    "import random"
   ]
  },
  {
   "cell_type": "code",
   "execution_count": 10,
   "metadata": {},
   "outputs": [],
   "source": [
    "#Question 1\n",
    "x = np.loadtxt(\"Noise.txt\")"
   ]
  },
  {
   "cell_type": "code",
   "execution_count": 11,
   "metadata": {},
   "outputs": [],
   "source": [
    "#Question 2\n",
    "N = len(x)\n",
    "Tmin = 1\n",
    "Tmax = 1000\n",
    "\n",
    "def Tfun(n):\n",
    "    t = Tmin*np.exp(-(n-1)*np.log(Tmin/Tmax)/(N-1))\n",
    "    return(t)\n",
    "\n",
    "T = [Tfun(n+1) for n in range(N)]"
   ]
  },
  {
   "cell_type": "code",
   "execution_count": 12,
   "metadata": {},
   "outputs": [
    {
     "data": {
      "image/png": "[encoded data removed]",
      "text/plain": [
       "<Figure size 432x288 with 1 Axes>"
      ]
     },
     "metadata": {
      "needs_background": "light"
     },
     "output_type": "display_data"
    }
   ],
   "source": [
    "#Question3\n",
    "fig = plt.figure()\n",
    "plt.plot(T, x)\n",
    "plt.xscale('log')\n",
    "plt.xlabel('Log of T')\n",
    "plt.ylabel('Noise')\n",
    "plt.show()"
   ]
  },
  {
   "cell_type": "code",
   "execution_count": 13,
   "metadata": {},
   "outputs": [],
   "source": [
    "#Question 4\n",
    "M = 50\n",
    "tmin = 0\n",
    "tmax = 1.5\n",
    "\n",
    "def tfun(m):\n",
    "    t = tmin + (m-1)*(tmax-tmin)/(M-1)\n",
    "    return(t)\n",
    "\n",
    "t = [tfun(m+1) for m in range(M)]"
   ]
  },
  {
   "cell_type": "code",
   "execution_count": 14,
   "metadata": {},
   "outputs": [],
   "source": [
    "#Question 5 \n",
    "K = np.array([np.array([np.exp(-T[n]*t[m]) for n in range(N)]) for m in range(M)])"
   ]
  },
  {
   "cell_type": "code",
   "execution_count": 15,
   "metadata": {},
   "outputs": [],
   "source": [
    "#Question 6\n",
    "z = np.dot(K,x)\n",
    "sig = 0.01 * z\n",
    "y = np.dot(K,x) + random.gauss(0,np.dot(sig,sig)*np.ones(M))"
   ]
  },
  {
   "cell_type": "code",
   "execution_count": 16,
   "metadata": {},
   "outputs": [
    {
     "data": {
      "image/png": "[encoded data removed]",
      "text/plain": [
       "<Figure size 432x288 with 1 Axes>"
      ]
     },
     "metadata": {
      "needs_background": "light"
     },
     "output_type": "display_data"
    }
   ],
   "source": [
    "#Question 7\n",
    "fig = plt.figure()\n",
    "plt.plot(t, y)\n",
    "plt.xlabel('t')\n",
    "plt.ylabel('Noisy data')\n",
    "plt.show()"
   ]
  },
  {
   "cell_type": "markdown",
   "metadata": {},
   "source": [
    "<h1>Comparison of regularization strategies</h1>"
   ]
  },
  {
   "cell_type": "code",
   "execution_count": 17,
   "metadata": {},
   "outputs": [],
   "source": [
    "#Question 1"
   ]
  },
  {
   "cell_type": "markdown",
   "metadata": {},
   "source": [
    "Smoothness prior:\n",
    "$g(x) = \\frac{1}{2}\\left \\| D(x) \\right \\|^{2} = \\frac{1}{2}\\sum_{N}^{i=1}(x_{i}-x_{i-1})^{2}$\n",
    "We take i and j in $\\left \\lfloor 1..N \\right \\rfloor$\n",
    "$\\frac{\\partial g}{\\partial x_{i}} = 2x_{i} - x_{i-1} - x_{i+1}$\n",
    "$\\frac{\\partial^{2} g}{\\partial^{2} x_{i}} = 2$ and $\\frac{\\partial^{2} g}{\\partial x_{i}x_{j}} = -1$ if j is equal to i+1 or i-1, $\\frac{\\partial^{2} g}{\\partial x_{i}x_{j}} = 0$ otherwise.\n",
    "So the $\\frac{\\partial^{2} g}{\\partial^{2} x_{i}} = 2$ > 0 and the function g is convex. So the problem has a solution which is unique"
   ]
  },
  {
   "cell_type": "markdown",
   "metadata": {},
   "source": [
    "Smoothness prior + constraints : $g(x) = \\frac{1}{2}\\left \\| D(x) \\right \\|^{2}+ \\iota _{\\left [ x_{min},x_{max} \\right ]^{N}}(x)$, Thanks to the indicator function we will now have to minmise the smoothness prior function in ${\\left [ x_{min},x_{max} \\right ]^{N}}$ which is compact so the g function has a minimum which is unique and the problem 4 has a unique minimum"
   ]
  },
  {
   "cell_type": "markdown",
   "metadata": {},
   "source": [
    "Sparsity prior : $g(x) = \\left \\|  x\\right \\|_{1}$, g is a norm so by defition g is convex so g and the problem have a minimum but it is not necessary unique."
   ]
  },
  {
   "cell_type": "code",
   "execution_count": 18,
   "metadata": {},
   "outputs": [],
   "source": [
    "#Question 2"
   ]
  },
  {
   "cell_type": "markdown",
   "metadata": {},
   "source": [
    "To solve the problem 4 we can use the Forward-Backward optimization algorithm. We will have a first question equal to $\\frac{1}{2}\\left \\|Kx-y  \\right \\|^{2}$ and $\\beta g(x)$ the second function."
   ]
  },
  {
   "cell_type": "code",
   "execution_count": 19,
   "metadata": {},
   "outputs": [
    {
     "data": {
      "text/plain": [
       "array([[ 1.,  0.,  0., ...,  0.,  0., -1.],\n",
       "       [-1.,  1.,  0., ...,  0.,  0.,  0.],\n",
       "       [ 0., -1.,  1., ...,  0.,  0.,  0.],\n",
       "       ...,\n",
       "       [ 0.,  0.,  0., ...,  1.,  0.,  0.],\n",
       "       [ 0.,  0.,  0., ..., -1.,  1.,  0.],\n",
       "       [ 0.,  0.,  0., ...,  0., -1.,  1.]])"
      ]
     },
     "execution_count": 19,
     "metadata": {},
     "output_type": "execute_result"
    }
   ],
   "source": [
    "#Question 3\n",
    "#We define the discrete gradient operator matrix\n",
    "D = np.zeros((N,N))\n",
    "D[0][0] = 1\n",
    "D[0][-1] = -1\n",
    "for i in range(N-1):\n",
    "    D[i+1][i+1]=1\n",
    "    D[i+1][i]= -1\n",
    "D"
   ]
  },
  {
   "cell_type": "code",
   "execution_count": null,
   "metadata": {},
   "outputs": [],
   "source": [
    "gamma = 0.1\n",
    "b = 0.1\n",
    "lamb=0.1"
   ]
  },
  {
   "cell_type": "code",
   "execution_count": null,
   "metadata": {},
   "outputs": [],
   "source": [
    "def proxOperator(x,f):\n",
    "    return"
   ]
  },
  {
   "cell_type": "code",
   "execution_count": 24,
   "metadata": {},
   "outputs": [],
   "source": [
    "def f(x):\n",
    "    return(0.5*np.linalg.norm(np.dot(K,x)-y)**2)"
   ]
  },
  {
   "cell_type": "code",
   "execution_count": 25,
   "metadata": {},
   "outputs": [],
   "source": [
    "def gSmooth(x):\n",
    "    return(0.5*np.linalg.norm(np.dot(D,x))**2)"
   ]
  },
  {
   "cell_type": "code",
   "execution_count": 26,
   "metadata": {},
   "outputs": [],
   "source": [
    "def gSparsity(x):\n",
    "    return(np.linalg.norm(x,1))"
   ]
  },
  {
   "cell_type": "code",
   "execution_count": null,
   "metadata": {},
   "outputs": [],
   "source": [
    "#Prox operator for the f function\n",
    "def proxOperator(x):\n",
    "    return(np.dot(np.linalg.inv(Id+np.dot(K.T,K)*l),x+b*gamma*np.dot((K.T),y)))"
   ]
  },
  {
   "cell_type": "code",
   "execution_count": null,
   "metadata": {},
   "outputs": [],
   "source": [
    "def gradSmmoth():\n",
    "    return"
   ]
  },
  {
   "cell_type": "code",
   "execution_count": 53,
   "metadata": {},
   "outputs": [],
   "source": [
    "def gradSparsity(x):\n",
    "    if(x<0):\n",
    "        return(-1)\n",
    "    elif (x>0):\n",
    "        return(1)\n",
    "    else:\n",
    "        return(0)\n",
    "    \n",
    "def gradSparsityVector(x):\n",
    "    return([gradSparsity(i) for i in x])"
   ]
  },
  {
   "cell_type": "code",
   "execution_count": 54,
   "metadata": {},
   "outputs": [
    {
     "data": {
      "text/plain": [
       "[1, 1, 0, -1]"
      ]
     },
     "execution_count": 54,
     "metadata": {},
     "output_type": "execute_result"
    }
   ],
   "source": [
    "x = np.array([1,5,0,-9])\n",
    "grad = [gradSparsity(i) for i in x]\n",
    "grad\n",
    "gradSparsityVector(x)"
   ]
  },
  {
   "cell_type": "code",
   "execution_count": null,
   "metadata": {},
   "outputs": [],
   "source": [
    "def forward_backward(function,grad):\n",
    "    x = np.zeros(N)#Condition initial\n",
    "    for i in range(100): #On fait 100 itérations de l'algorithme\n",
    "        y = x - gamma*grad(x)\n",
    "        x = x +lamb*(proxOperator(gamma*y)-x)\n",
    "    return(x)"
   ]
  },
  {
   "cell_type": "code",
   "execution_count": 28,
   "metadata": {},
   "outputs": [],
   "source": [
    "#Question 4\n",
    "def error(x1,x2):\n",
    "    return((np.linalg.norm(x1-x2)/np.linalg.norm(x2))**2)"
   ]
  },
  {
   "cell_type": "code",
   "execution_count": 33,
   "metadata": {},
   "outputs": [
    {
     "data": {
      "text/plain": [
       "array([1.e-04, 2.e-04, 3.e-04, 4.e-04, 5.e-04, 6.e-04, 7.e-04, 8.e-04,\n",
       "       9.e-04, 1.e-03, 1.e-03, 2.e-03, 3.e-03, 4.e-03, 5.e-03, 6.e-03,\n",
       "       7.e-03, 8.e-03, 9.e-03, 1.e-02, 1.e-02, 2.e-02, 3.e-02, 4.e-02,\n",
       "       5.e-02, 6.e-02, 7.e-02, 8.e-02, 9.e-02, 1.e-01, 1.e-01, 2.e-01,\n",
       "       3.e-01, 4.e-01, 5.e-01, 6.e-01, 7.e-01, 8.e-01, 9.e-01, 1.e+00])"
      ]
     },
     "execution_count": 33,
     "metadata": {},
     "output_type": "execute_result"
    }
   ],
   "source": [
    "#Question 5\n",
    "#We create a list of beta to test\n",
    "B = np.sort(np.array([np.array(range(1,11))*10**-i for i in range(1,5)]).reshape((40,)))\n",
    "B"
   ]
  },
  {
   "cell_type": "code",
   "execution_count": 45,
   "metadata": {},
   "outputs": [
    {
     "data": {
      "image/png": "[encoded data removed]",
      "text/plain": [
       "<Figure size 432x288 with 1 Axes>"
      ]
     },
     "metadata": {
      "needs_background": "light"
     },
     "output_type": "display_data"
    }
   ],
   "source": [
    "L = [error(f(x) + b*gSmooth(x),x) for b in B]\n",
    "fig = plt.figure()\n",
    "plt.plot(B, L)\n",
    "plt.title('Error for the smoothness prior in terms of b')\n",
    "plt.xlabel('b')\n",
    "plt.xscale('log')\n",
    "plt.ylabel('error')\n",
    "plt.show()"
   ]
  },
  {
   "cell_type": "code",
   "execution_count": 47,
   "metadata": {},
   "outputs": [
    {
     "data": {
      "image/png": "[encoded data removed]",
      "text/plain": [
       "<Figure size 432x288 with 1 Axes>"
      ]
     },
     "metadata": {
      "needs_background": "light"
     },
     "output_type": "display_data"
    }
   ],
   "source": [
    "L = [error(f(x) + b*gSparsity(x),x) for b in B]\n",
    "fig = plt.figure()\n",
    "plt.plot(B, L)\n",
    "plt.title('Error for the sparsity prior in terms of b')\n",
    "plt.xlabel('b')\n",
    "plt.xscale('log')\n",
    "plt.ylabel('error')\n",
    "plt.show()"
   ]
  },
  {
   "cell_type": "markdown",
   "metadata": {},
   "source": [
    "<h1>Maximum entropy regularization</h1>"
   ]
  },
  {
   "cell_type": "code",
   "execution_count": null,
   "metadata": {},
   "outputs": [],
   "source": [
    "#Question1"
   ]
  },
  {
   "cell_type": "code",
   "execution_count": null,
   "metadata": {},
   "outputs": [],
   "source": [
    "#Question2"
   ]
  },
  {
   "cell_type": "code",
   "execution_count": null,
   "metadata": {},
   "outputs": [],
   "source": [
    "#Question3"
   ]
  },
  {
   "cell_type": "markdown",
   "metadata": {},
   "source": [
    "We take x in $R^{N}$ Voir notes dans le cahier ou photo"
   ]
  },
  {
   "cell_type": "code",
   "execution_count": null,
   "metadata": {},
   "outputs": [],
   "source": [
    "#Question4\n"
   ]
  },
  {
   "cell_type": "code",
   "execution_count": null,
   "metadata": {},
   "outputs": [],
   "source": [
    "#Question5"
   ]
  },
  {
   "cell_type": "code",
   "execution_count": null,
   "metadata": {},
   "outputs": [],
   "source": [
    "#Question6"
   ]
  },
  {
   "cell_type": "code",
   "execution_count": null,
   "metadata": {},
   "outputs": [],
   "source": [
    "#Question7"
   ]
  },
  {
   "cell_type": "code",
   "execution_count": null,
   "metadata": {},
   "outputs": [],
   "source": [
    "#Question8"
   ]
  }
 ],
 "metadata": {
  "kernelspec": {
   "display_name": "Python 3",
   "language": "python",
   "name": "python3"
  },
  "language_info": {
   "codemirror_mode": {
    "name": "ipython",
    "version": 3
   },
   "file_extension": ".py",
   "mimetype": "text/x-python",
   "name": "python",
   "nbconvert_exporter": "python",
   "pygments_lexer": "ipython3",
   "version": "3.6.7"
  }
 },
 "nbformat": 4,
 "nbformat_minor": 2
}
