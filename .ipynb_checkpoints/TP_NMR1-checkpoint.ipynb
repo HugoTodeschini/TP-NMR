{
 "cells": [
  {
   "cell_type": "markdown",
   "metadata": {},
   "source": [
    "<h1>Generation of synthetic data</h1>"
   ]
  },
  {
   "cell_type": "code",
   "execution_count": 32,
   "metadata": {},
   "outputs": [],
   "source": [
    "import numpy as np\n",
    "import matplotlib.pyplot as plt\n",
    "import random"
   ]
  },
  {
   "cell_type": "code",
   "execution_count": 62,
   "metadata": {},
   "outputs": [],
   "source": [
    "#Question 1\n",
    "x = np.loadtxt(\"Noise.txt\")"
   ]
  },
  {
   "cell_type": "code",
   "execution_count": 63,
   "metadata": {},
   "outputs": [],
   "source": [
    "#Question 2\n",
    "N = len(x)\n",
    "Tmin = 1\n",
    "Tmax = 1000\n",
    "\n",
    "def Tfun(n):\n",
    "    t = Tmin*np.exp(-(n-1)*np.log(Tmin/Tmax)/(N-1))\n",
    "    return(t)\n",
    "\n",
    "T = [Tfun(n+1) for n in range(N)]"
   ]
  },
  {
   "cell_type": "code",
   "execution_count": 64,
   "metadata": {},
   "outputs": [
    {
     "data": {
      "image/png": "[encoded data removed]",
      "text/plain": [
       "<Figure size 432x288 with 1 Axes>"
      ]
     },
     "metadata": {
      "needs_background": "light"
     },
     "output_type": "display_data"
    }
   ],
   "source": [
    "#Question3\n",
    "fig = plt.figure()\n",
    "plt.plot(T, x)\n",
    "plt.xscale('log')\n",
    "plt.xlabel('Log of T')\n",
    "plt.ylabel('Noise')\n",
    "plt.show()"
   ]
  },
  {
   "cell_type": "code",
   "execution_count": 65,
   "metadata": {},
   "outputs": [],
   "source": [
    "#Question 4\n",
    "M = 50\n",
    "tmin = 0\n",
    "tmax = 1.5\n",
    "\n",
    "def tfun(m):\n",
    "    t = tmin + (m-1)*(tmax-tmin)/(M-1)\n",
    "    return(t)\n",
    "\n",
    "t = [tfun(m+1) for m in range(M)]"
   ]
  },
  {
   "cell_type": "code",
   "execution_count": 66,
   "metadata": {},
   "outputs": [],
   "source": [
    "#Question 5 \n",
    "K = np.array([np.array([np.exp(-T[n]*t[m]) for n in range(N)]) for m in range(M)])"
   ]
  },
  {
   "cell_type": "code",
   "execution_count": 67,
   "metadata": {},
   "outputs": [],
   "source": [
    "#Question 6\n",
    "z = np.dot(K,noise)\n",
    "sig = 0.01 * z\n",
    "y = np.dot(K,noise) + random.gauss(0,np.dot(sig,sig)*np.ones(M))"
   ]
  },
  {
   "cell_type": "code",
   "execution_count": 68,
   "metadata": {},
   "outputs": [
    {
     "data": {
      "image/png": "[encoded data removed]",
      "text/plain": [
       "<Figure size 432x288 with 1 Axes>"
      ]
     },
     "metadata": {
      "needs_background": "light"
     },
     "output_type": "display_data"
    }
   ],
   "source": [
    "#Question 7\n",
    "fig = plt.figure()\n",
    "plt.plot(t, y)\n",
    "plt.xlabel('t')\n",
    "plt.ylabel('Noisy data')\n",
    "plt.show()"
   ]
  },
  {
   "cell_type": "markdown",
   "metadata": {},
   "source": [
    "<h1>Comparison of regularization strategies</h1>"
   ]
  },
  {
   "cell_type": "code",
   "execution_count": null,
   "metadata": {},
   "outputs": [],
   "source": [
    "#Question 1"
   ]
  },
  {
   "cell_type": "markdown",
   "metadata": {},
   "source": [
    "Smoothness prior:\n",
    "$g(x) = \\frac{1}{2}\\left \\| D(x) \\right \\|^{2} = \\frac{1}{2}\\sum_{N}^{i=1}(x_{i}-x_{i-1})^{2}$\n",
    "We take i and j in $\\left \\lfloor 1..N \\right \\rfloor$\n",
    "$\\frac{\\partial g}{\\partial x_{i}} = 2x_{i} - x_{i-1} - x_{i+1}$\n",
    "$\\frac{\\partial^{2} g}{\\partial^{2} x_{i}} = 2$ and $\\frac{\\partial^{2} g}{\\partial x_{i}x_{j}} = -1$ if j is equal to i+1 or i-1, $\\frac{\\partial^{2} g}{\\partial x_{i}x_{j}} = 0$ otherwise.\n",
    "So the $\\frac{\\partial^{2} g}{\\partial^{2} x_{i}} = 2$ > 0 and the function g is convex. So the problem has a solution which is unique"
   ]
  },
  {
   "cell_type": "markdown",
   "metadata": {},
   "source": [
    "Smoothness prior + constraints : $g(x) = \\frac{1}{2}\\left \\| D(x) \\right \\|^{2}+ \\iota _{\\left [ x_{min},x_{max} \\right ]^{N}}(x)$, Thanks to the indicator function we will now have to minmise the smoothness prior function in ${\\left [ x_{min},x_{max} \\right ]^{N}}$ which is compact so the g function has a minimum which is unique and the problem 4 has a unique minimum"
   ]
  },
  {
   "cell_type": "markdown",
   "metadata": {},
   "source": [
    "Sparsity prior : $g(x) = \\left \\|  x\\right \\|_{1}$, g is a norm so by defition g is convex so g and the problem have a minimum but it is not necessary unique."
   ]
  },
  {
   "cell_type": "code",
   "execution_count": null,
   "metadata": {},
   "outputs": [],
   "source": [
    "#Question 2"
   ]
  },
  {
   "cell_type": "markdown",
   "metadata": {},
   "source": [
    "To solve the problem 4 we can use the Forward-Backward optimization algorithm. We will have a first question equal to $\\frac{1}{2}\\left \\|Kx-y  \\right \\|^{2}$ and $\\beta g(x)$ the second function."
   ]
  },
  {
   "cell_type": "code",
   "execution_count": null,
   "metadata": {},
   "outputs": [],
   "source": [
    "#Question 3"
   ]
  },
  {
   "cell_type": "code",
   "execution_count": null,
   "metadata": {},
   "outputs": [],
   "source": [
    "#Question 4"
   ]
  },
  {
   "cell_type": "code",
   "execution_count": null,
   "metadata": {},
   "outputs": [],
   "source": [
    "#Question 5"
   ]
  },
  {
   "cell_type": "markdown",
   "metadata": {},
   "source": [
    "<h1>Maximum entropy regularization</h1>"
   ]
  },
  {
   "cell_type": "code",
   "execution_count": null,
   "metadata": {},
   "outputs": [],
   "source": [
    "#Question1"
   ]
  },
  {
   "cell_type": "code",
   "execution_count": null,
   "metadata": {},
   "outputs": [],
   "source": [
    "#Question2"
   ]
  },
  {
   "cell_type": "code",
   "execution_count": null,
   "metadata": {},
   "outputs": [],
   "source": [
    "#Question3"
   ]
  },
  {
   "cell_type": "markdown",
   "metadata": {},
   "source": [
    "We take x in $R^{N}$ Voir notes dans le cahier ou photo"
   ]
  },
  {
   "cell_type": "code",
   "execution_count": null,
   "metadata": {},
   "outputs": [],
   "source": [
    "#Question4\n"
   ]
  },
  {
   "cell_type": "code",
   "execution_count": null,
   "metadata": {},
   "outputs": [],
   "source": [
    "#Question5"
   ]
  },
  {
   "cell_type": "code",
   "execution_count": null,
   "metadata": {},
   "outputs": [],
   "source": [
    "#Question6"
   ]
  },
  {
   "cell_type": "code",
   "execution_count": null,
   "metadata": {},
   "outputs": [],
   "source": [
    "#Question7"
   ]
  },
  {
   "cell_type": "code",
   "execution_count": null,
   "metadata": {},
   "outputs": [],
   "source": [
    "#Question8"
   ]
  }
 ],
 "metadata": {
  "kernelspec": {
   "display_name": "Python 3",
   "language": "python",
   "name": "python3"
  },
  "language_info": {
   "codemirror_mode": {
    "name": "ipython",
    "version": 3
   },
   "file_extension": ".py",
   "mimetype": "text/x-python",
   "name": "python",
   "nbconvert_exporter": "python",
   "pygments_lexer": "ipython3",
   "version": "3.6.7"
  }
 },
 "nbformat": 4,
 "nbformat_minor": 2
}
