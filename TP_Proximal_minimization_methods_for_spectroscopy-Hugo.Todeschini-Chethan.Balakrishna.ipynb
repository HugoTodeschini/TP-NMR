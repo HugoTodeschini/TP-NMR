{
 "cells": [
  {
   "cell_type": "markdown",
   "metadata": {},
   "source": [
    "<h1>Generation of synthetic data</h1>"
   ]
  },
  {
   "cell_type": "code",
   "execution_count": 1,
   "metadata": {},
   "outputs": [],
   "source": [
    "import numpy as np\n",
    "import matplotlib.pyplot as plt\n",
    "import random\n",
    "from math import *\n",
    "from sklearn.model_selection import ParameterGrid"
   ]
  },
  {
   "cell_type": "code",
   "execution_count": 49,
   "metadata": {},
   "outputs": [],
   "source": [
    "#Question 1\n",
    "x = np.loadtxt(\"Noise.txt\")"
   ]
  },
  {
   "cell_type": "code",
   "execution_count": 3,
   "metadata": {},
   "outputs": [],
   "source": [
    "#Question 2\n",
    "N = len(x)\n",
    "Tmin = 1\n",
    "Tmax = 1000\n",
    "\n",
    "def Tfun(n):\n",
    "    t = Tmin*np.exp(-(n-1)*np.log(Tmin/Tmax)/(N-1))\n",
    "    return(t)\n",
    "\n",
    "T = [Tfun(n+1) for n in range(N)]"
   ]
  },
  {
   "cell_type": "code",
   "execution_count": 4,
   "metadata": {},
   "outputs": [
    {
     "data": {
      "image/png": "[encoded data removed]",
      "text/plain": [
       "<Figure size 432x288 with 1 Axes>"
      ]
     },
     "metadata": {
      "needs_background": "light"
     },
     "output_type": "display_data"
    }
   ],
   "source": [
    "#Question3\n",
    "fig = plt.figure()\n",
    "plt.plot(T, x)\n",
    "plt.xscale('log')\n",
    "plt.xlabel('Log of T')\n",
    "plt.ylabel('Noise')\n",
    "plt.show()"
   ]
  },
  {
   "cell_type": "code",
   "execution_count": 5,
   "metadata": {},
   "outputs": [],
   "source": [
    "#Question 4\n",
    "M = 50\n",
    "tmin = 0\n",
    "tmax = 1.5\n",
    "\n",
    "def tfun(m):\n",
    "    t = tmin + (m-1)*(tmax-tmin)/(M-1)\n",
    "    return(t)\n",
    "\n",
    "t = [tfun(m+1) for m in range(M)]"
   ]
  },
  {
   "cell_type": "code",
   "execution_count": 6,
   "metadata": {},
   "outputs": [],
   "source": [
    "#Question 5 \n",
    "K = np.array([np.array([np.exp(-T[n]*t[m]) for n in range(N)]) for m in range(M)])"
   ]
  },
  {
   "cell_type": "code",
   "execution_count": 7,
   "metadata": {},
   "outputs": [],
   "source": [
    "#Question 6\n",
    "z = np.dot(K,x)\n",
    "sig = 0.01 * z\n",
    "y = np.dot(K,x) + random.gauss(0,np.dot(sig,sig)*np.ones(M))"
   ]
  },
  {
   "cell_type": "code",
   "execution_count": 8,
   "metadata": {},
   "outputs": [
    {
     "data": {
      "image/png": "[encoded data removed]",
      "text/plain": [
       "<Figure size 432x288 with 1 Axes>"
      ]
     },
     "metadata": {
      "needs_background": "light"
     },
     "output_type": "display_data"
    }
   ],
   "source": [
    "#Question 7\n",
    "fig = plt.figure()\n",
    "plt.plot(t, y)\n",
    "plt.xlabel('t')\n",
    "plt.ylabel('Noisy data')\n",
    "plt.show()"
   ]
  },
  {
   "cell_type": "markdown",
   "metadata": {},
   "source": [
    "<h1>Comparison of regularization strategies</h1>"
   ]
  },
  {
   "cell_type": "code",
   "execution_count": 9,
   "metadata": {},
   "outputs": [],
   "source": [
    "#Question 1"
   ]
  },
  {
   "cell_type": "markdown",
   "metadata": {},
   "source": [
    "Smoothness prior:\n",
    "$g(x) = \\frac{1}{2}\\left \\| D(x) \\right \\|^{2} = \\frac{1}{2}\\sum_{N}^{i=1}(x_{i}-x_{i-1})^{2}$\n",
    "We take i and j in $\\left \\lfloor 1..N \\right \\rfloor$\n",
    "$\\frac{\\partial g}{\\partial x_{i}} = 2x_{i} - x_{i-1} - x_{i+1}$\n",
    "$\\frac{\\partial^{2} g}{\\partial^{2} x_{i}} = 2$ and $\\frac{\\partial^{2} g}{\\partial x_{i}x_{j}} = -1$ if j is equal to i+1 or i-1, $\\frac{\\partial^{2} g}{\\partial x_{i}x_{j}} = 0$ otherwise.\n",
    "So the $\\frac{\\partial^{2} g}{\\partial^{2} x_{i}} = 2$ > 0 and the function g is convex. So the problem has a solution which is unique"
   ]
  },
  {
   "cell_type": "markdown",
   "metadata": {},
   "source": [
    "Smoothness prior + constraints : $g(x) = \\frac{1}{2}\\left \\| D(x) \\right \\|^{2}+ \\iota _{\\left [ x_{min},x_{max} \\right ]^{N}}(x)$, Thanks to the indicator function we will now have to minmise the smoothness prior function in ${\\left [ x_{min},x_{max} \\right ]^{N}}$ which is compact so the g function has a minimum which is unique and the problem 4 has a unique minimum"
   ]
  },
  {
   "cell_type": "markdown",
   "metadata": {},
   "source": [
    "Sparsity prior : $g(x) = \\left \\|  x\\right \\|_{1}$, g is a norm so by defition g is convex so g and the problem have a minimum but it is not necessary unique."
   ]
  },
  {
   "cell_type": "code",
   "execution_count": 10,
   "metadata": {},
   "outputs": [],
   "source": [
    "#Question 2"
   ]
  },
  {
   "cell_type": "markdown",
   "metadata": {},
   "source": [
    "To solve the problem 4 we can use the Forward-Backward optimization algorithm. We will have a first question equal to $\\frac{1}{2}\\left \\|Kx-y  \\right \\|^{2}$ and $\\beta g(x)$ the second function."
   ]
  },
  {
   "cell_type": "code",
   "execution_count": 11,
   "metadata": {},
   "outputs": [
    {
     "data": {
      "text/plain": [
       "array([[ 1.,  0.,  0., ...,  0.,  0., -1.],\n",
       "       [-1.,  1.,  0., ...,  0.,  0.,  0.],\n",
       "       [ 0., -1.,  1., ...,  0.,  0.,  0.],\n",
       "       ...,\n",
       "       [ 0.,  0.,  0., ...,  1.,  0.,  0.],\n",
       "       [ 0.,  0.,  0., ..., -1.,  1.,  0.],\n",
       "       [ 0.,  0.,  0., ...,  0., -1.,  1.]])"
      ]
     },
     "execution_count": 11,
     "metadata": {},
     "output_type": "execute_result"
    }
   ],
   "source": [
    "#Question 3\n",
    "#We define the discrete gradient operator matrix\n",
    "D = np.zeros((N,N))\n",
    "D[0][0] = 1\n",
    "D[0][-1] = -1\n",
    "for i in range(N-1):\n",
    "    D[i+1][i+1]=1\n",
    "    D[i+1][i]= -1\n",
    "D"
   ]
  },
  {
   "cell_type": "code",
   "execution_count": 40,
   "metadata": {},
   "outputs": [],
   "source": [
    "gamma = 0.1\n",
    "b = 0.1\n",
    "lamb=0.1\n",
    "Id = np.identity(N)"
   ]
  },
  {
   "cell_type": "code",
   "execution_count": 13,
   "metadata": {},
   "outputs": [],
   "source": [
    "def proxOperator(x,f):\n",
    "    return"
   ]
  },
  {
   "cell_type": "code",
   "execution_count": 14,
   "metadata": {},
   "outputs": [],
   "source": [
    "def f(x):\n",
    "    return(0.5*np.linalg.norm(np.dot(K,x)-y)**2)"
   ]
  },
  {
   "cell_type": "code",
   "execution_count": 15,
   "metadata": {},
   "outputs": [],
   "source": [
    "def gSmooth(x):\n",
    "    return(0.5*np.linalg.norm(np.dot(D,x))**2)"
   ]
  },
  {
   "cell_type": "code",
   "execution_count": 16,
   "metadata": {},
   "outputs": [],
   "source": [
    "def gSparsity(x):\n",
    "    return(np.linalg.norm(x,1))"
   ]
  },
  {
   "cell_type": "code",
   "execution_count": 54,
   "metadata": {},
   "outputs": [],
   "source": [
    "#Prox operator for the f function\n",
    "def proxOperator(x,b):\n",
    "    return(np.dot(np.linalg.inv(Id+np.dot(K.T,K)*b*gamma),x+b*gamma*np.dot((K.T),y)))"
   ]
  },
  {
   "cell_type": "code",
   "execution_count": 18,
   "metadata": {},
   "outputs": [],
   "source": [
    "def gradSmmoth():\n",
    "    return"
   ]
  },
  {
   "cell_type": "code",
   "execution_count": 37,
   "metadata": {},
   "outputs": [],
   "source": [
    "def gradSparsity(x):\n",
    "    if(x<0):\n",
    "        return(-1)\n",
    "    elif (x>0):\n",
    "        return(1)\n",
    "    else:\n",
    "        return(0)\n",
    "    \n",
    "def gradSparsityVector(x):\n",
    "    return np.array([gradSparsity(i) for i in x])"
   ]
  },
  {
   "cell_type": "code",
   "execution_count": 32,
   "metadata": {},
   "outputs": [
    {
     "data": {
      "text/plain": [
       "array([ 0.1,  0.5,  0. , -0.9])"
      ]
     },
     "execution_count": 32,
     "metadata": {},
     "output_type": "execute_result"
    }
   ],
   "source": [
    "x = np.array([1,5,0,-9])\n",
    "grad = [gradSparsity(i) for i in x]\n",
    "grad\n",
    "gradSparsityVector(x)\n",
    "0.1*x"
   ]
  },
  {
   "cell_type": "code",
   "execution_count": 61,
   "metadata": {},
   "outputs": [],
   "source": [
    "def forward_backward(grad,b):\n",
    "    x = np.zeros(N)#Condition initial\n",
    "    for i in range(1000): #On fait 100 itérations de l'algorithme\n",
    "        y = x - 0.1*grad(x)\n",
    "        x = x +lamb*(proxOperator(y,b)-x)\n",
    "    return(x)"
   ]
  },
  {
   "cell_type": "code",
   "execution_count": 38,
   "metadata": {},
   "outputs": [
    {
     "data": {
      "text/plain": [
       "array([ 0.1,  0.1,  0. , -0.1])"
      ]
     },
     "execution_count": 38,
     "metadata": {},
     "output_type": "execute_result"
    }
   ],
   "source": [
    "gradSparsityVector(x) * 0.1"
   ]
  },
  {
   "cell_type": "code",
   "execution_count": 59,
   "metadata": {},
   "outputs": [
    {
     "data": {
      "text/plain": [
       "array([ 0.00735652,  0.00644533,  0.00550769,  0.00454315,  0.00355129,\n",
       "        0.00253168,  0.00148394,  0.0004077 , -0.00069738, -0.00183161,\n",
       "       -0.00299526, -0.00418858, -0.00541177, -0.006665  ,  0.01205161,\n",
       "        0.01073798,  0.00939407,  0.00801991,  0.00661555,  0.00518113,\n",
       "        0.0037168 ,  0.00222281,  0.00069944, -0.00085298, -0.00243403,\n",
       "       -0.00404325, -0.00568012, -0.00734407,  0.01096556,  0.00924946,\n",
       "        0.00750838,  0.00574313,  0.00395459,  0.00214366,  0.00031131,\n",
       "       -0.00154144, -0.00341354, -0.00530389, -0.00721135,  0.01086524,\n",
       "        0.00892709,  0.00697542,  0.00501147,  0.00303652,  0.00105185,\n",
       "       -0.00094125, -0.00294149, -0.00494756, -0.00695816,  0.01102799,\n",
       "        0.0090122 ,  0.00699574,  0.00497985,  0.0029658 ,  0.00095479,\n",
       "       -0.00105197, -0.00305331, -0.00504808, -0.00703517, -0.00901349,\n",
       "        0.00901801,  0.00706036,  0.00511453,  0.00318148,  0.00126213,\n",
       "       -0.00064266, -0.00253204, -0.0044052 , -0.00626137, -0.00809983,\n",
       "        0.01008013,  0.00827916,  0.00649791,  0.00473695,  0.00299686,\n",
       "        0.00127816, -0.00041865, -0.00209309, -0.00374472, -0.00537314,\n",
       "       -0.00697795, -0.00855879, -0.01011531,  0.00835279,  0.00684581,\n",
       "        0.00536404,  0.00390771,  0.00247708,  0.00107236, -0.00030625,\n",
       "       -0.00165855, -0.00298438, -0.00428357, -0.00555598, -0.00680147,\n",
       "       -0.00801993, -0.00921124, -0.0103753 ,  0.00848796,  0.00737864,\n",
       "        0.00629678,  0.00524245,  0.00421568,  0.00321651,  0.00224496,\n",
       "        0.00130103,  0.00038472, -0.00050399, -0.00136514, -0.00219877,\n",
       "       -0.00300494, -0.00378373, -0.00453524, -0.00525959, -0.00595691,\n",
       "       -0.00662735, -0.00727109, -0.00788833, -0.00847929, -0.00904422,\n",
       "       -0.00958341, -0.01009714, -0.01058577, -0.01104964, -0.01148916,\n",
       "        0.00809526,  0.00770314,  0.007334  ,  0.00698731,  0.00666251,\n",
       "        0.00635901,  0.00607619,  0.00581339,  0.00556992,  0.00534506,\n",
       "        0.00513807,  0.00494819,  0.00477462,  0.00461656,  0.00447319,\n",
       "        0.00434367,  0.00422717,  0.00412285,  0.00402986,  0.00394739,\n",
       "        0.0038746 ,  0.00381071,  0.00375493,  0.00370651,  0.00366473,\n",
       "        0.0036289 ,  0.00359838,  0.00357254,  0.00355083,  0.00353271,\n",
       "        0.0035177 ,  0.00350537,  0.00349532,  0.00348719,  0.00348068,\n",
       "        0.00347551,  0.00347144,  0.00346827,  0.00346582,  0.00346395,\n",
       "        0.00346254,  0.00346149,  0.00346071,  0.00346014,  0.00345973,\n",
       "        0.00345944,  0.00345923,  0.00345909,  0.00345899,  0.00345893,\n",
       "        0.00345889,  0.00345886,  0.00345884,  0.00345883,  0.00345882,\n",
       "        0.00345882,  0.00345881,  0.00345881,  0.00345881,  0.00345881,\n",
       "        0.00345881,  0.00345881,  0.00345881,  0.00345881,  0.00345881,\n",
       "        0.00345881,  0.00345881,  0.00345881,  0.00345881,  0.00345881,\n",
       "        0.00345881,  0.00345881,  0.00345881,  0.00345881,  0.00345881])"
      ]
     },
     "execution_count": 59,
     "metadata": {},
     "output_type": "execute_result"
    }
   ],
   "source": [
    "forward_backward(gradSparsityVector,b)"
   ]
  },
  {
   "cell_type": "code",
   "execution_count": 22,
   "metadata": {},
   "outputs": [],
   "source": [
    "#Question 4\n",
    "def error(x1,x2):\n",
    "    return((np.linalg.norm(x1-x2)/np.linalg.norm(x2))**2)"
   ]
  },
  {
   "cell_type": "code",
   "execution_count": 23,
   "metadata": {},
   "outputs": [
    {
     "data": {
      "text/plain": [
       "array([1.e-04, 2.e-04, 3.e-04, 4.e-04, 5.e-04, 6.e-04, 7.e-04, 8.e-04,\n",
       "       9.e-04, 1.e-03, 1.e-03, 2.e-03, 3.e-03, 4.e-03, 5.e-03, 6.e-03,\n",
       "       7.e-03, 8.e-03, 9.e-03, 1.e-02, 1.e-02, 2.e-02, 3.e-02, 4.e-02,\n",
       "       5.e-02, 6.e-02, 7.e-02, 8.e-02, 9.e-02, 1.e-01, 1.e-01, 2.e-01,\n",
       "       3.e-01, 4.e-01, 5.e-01, 6.e-01, 7.e-01, 8.e-01, 9.e-01, 1.e+00])"
      ]
     },
     "execution_count": 23,
     "metadata": {},
     "output_type": "execute_result"
    }
   ],
   "source": [
    "#Question 5\n",
    "#We create a list of beta to test\n",
    "B = np.sort(np.array([np.array(range(1,11))*10**-i for i in range(1,5)]).reshape((40,)))\n",
    "B"
   ]
  },
  {
   "cell_type": "code",
   "execution_count": 53,
   "metadata": {},
   "outputs": [
    {
     "data": {
      "image/png": "[encoded data removed]",
      "text/plain": [
       "<Figure size 432x288 with 1 Axes>"
      ]
     },
     "metadata": {
      "needs_background": "light"
     },
     "output_type": "display_data"
    }
   ],
   "source": [
    "L = [error(f(x) + b*gSmooth(x),x) for b in B]\n",
    "fig = plt.figure()\n",
    "plt.plot(B, L)\n",
    "plt.title('Error for the smoothness prior in terms of b')\n",
    "plt.xlabel('b')\n",
    "plt.xscale('log')\n",
    "plt.ylabel('error')\n",
    "plt.show()"
   ]
  },
  {
   "cell_type": "code",
   "execution_count": 62,
   "metadata": {},
   "outputs": [
    {
     "data": {
      "image/png": "[encoded data removed]",
      "text/plain": [
       "<Figure size 432x288 with 1 Axes>"
      ]
     },
     "metadata": {
      "needs_background": "light"
     },
     "output_type": "display_data"
    }
   ],
   "source": [
    "L = [error(forward_backward(gradSparsityVector,b),x) for b in B]\n",
    "fig = plt.figure()\n",
    "plt.plot(B, L)\n",
    "plt.title('Error for the sparsity prior in terms of b')\n",
    "plt.xlabel('b')\n",
    "plt.xscale('log')\n",
    "plt.ylabel('error')\n",
    "plt.show()"
   ]
  },
  {
   "cell_type": "markdown",
   "metadata": {},
   "source": [
    "<h1>Maximum entropy regularization</h1>"
   ]
  },
  {
   "cell_type": "markdown",
   "metadata": {},
   "source": [
    "# Question 1:\n",
    "ent is a convex function because ulogu is convex and the sum of convex functions is always convex. It is also proper because its effective domain is non-empty and it never attains minus infinity It is lower semicontinous beacuse it converges to the lower bound of 0. The function however is not differntiable at 0.\n",
    "\n"
   ]
  },
  {
   "cell_type": "markdown",
   "metadata": {},
   "source": [
    "# Question 2:\n",
    "The first term is convex and the entropy function is also convex. They are both proper and lower semicontinous, hence the function has a an optimal point, which may or maynot be unique. "
   ]
  },
  {
   "cell_type": "markdown",
   "metadata": {},
   "source": [
    "# Question 3:\n",
    "\n",
    "$x \\in \\mathbb{R}$ , $prox_{\\gamma \\phi(x)} = argmin \\frac{1}{2} ||x - z||^2 + \\gamma z ln(z)$\n",
    "$$\\frac{z-x}{\\gamma} + 1 + ln(z) = 0 $$\n",
    "$$\\frac{z}{\\gamma} + ln(frac{z}{\\gamma}) = \\frac{x}{\\gamma} - 1 - ln(\\gamma)$$\n",
    "$$\\frac{z}{\\gamma} e^{\\frac{z}{\\gamma}} = e^{\\frac{x}{\\gamma}} - 1 - ln(\\gamma)$$\n",
    "$$z = \\gamma W(\\frac{1}{\\gamma}e^{(\\frac{x}{\\gamma}-1)})$$"
   ]
  },
  {
   "cell_type": "code",
   "execution_count": 40,
   "metadata": {},
   "outputs": [],
   "source": [
    "#Proximity function of ent with Lambert function \n",
    "import scipy.special.lambertw as lambertw\n",
    "\n",
    "def proxent(gamma,N, x):\n",
    "    s = np.zeros(N)\n",
    "    for i in range(N):\n",
    "        v=np.zeros(N)\n",
    "        v[i] = 1\n",
    "        xs = x[i]\n",
    "        u = xs/gamma -1 - log(gamma)\n",
    "        if u >100:\n",
    "            p =gamma*( u - log(u))\n",
    "        elif u < -20:\n",
    "            p = 0\n",
    "        else:\n",
    "            p = gamma * lambertw(u)\n",
    "        q = p * v\n",
    "        s = s + q\n",
    "    return s\n"
   ]
  },
  {
   "cell_type": "code",
   "execution_count": 58,
   "metadata": {},
   "outputs": [],
   "source": [
    "#Computing the gradient \n",
    "def gradient2(K,x, y):\n",
    "    return np.dot(K.T,np.dot(K,x) - y)"
   ]
  },
  {
   "cell_type": "code",
   "execution_count": 59,
   "metadata": {},
   "outputs": [],
   "source": [
    "#Forward Backward \n",
    "gam = 0.01\n",
    "b=0.000001\n",
    "l = b * gam\n",
    "prox = lambda x : proxent(l, N, x)\n",
    "grad = lambda x : gradient2(K,x,y)"
   ]
  },
  {
   "cell_type": "code",
   "execution_count": 60,
   "metadata": {},
   "outputs": [],
   "source": [
    "def gradient_descent(init, steps,relax, grad, proj=lambda x: x):\n",
    "    xs = init\n",
    "    for step in steps:\n",
    "        ys = xs - step * grad(xs)\n",
    "        xs = xs + relax * (proj(ys) - xs) \n",
    "    return ys"
   ]
  },
  {
   "cell_type": "code",
   "execution_count": 61,
   "metadata": {},
   "outputs": [
    {
     "name": "stderr",
     "output_type": "stream",
     "text": [
      "/anaconda3/lib/python3.7/site-packages/ipykernel_launcher.py:12: ComplexWarning: Casting complex values to real discards the imaginary part\n",
      "  if sys.path[0] == '':\n"
     ]
    }
   ],
   "source": [
    "x0 = np.random.sample(N)\n",
    "xs = gradient_descent(x0,[gam]*10000,0.3,grad,prox)"
   ]
  },
  {
   "cell_type": "code",
   "execution_count": 66,
   "metadata": {},
   "outputs": [
    {
     "data": {
      "text/plain": [
       "0.13988208854843187"
      ]
     },
     "execution_count": 66,
     "metadata": {},
     "output_type": "execute_result"
    }
   ],
   "source": [
    "e = np.linalg.norm(xs - x)**2/np.linalg.norm(x)**2\n",
    "e"
   ]
  },
  {
   "cell_type": "code",
   "execution_count": 67,
   "metadata": {},
   "outputs": [
    {
     "data": {
      "text/plain": [
       "[<matplotlib.lines.Line2D at 0x120d7df98>]"
      ]
     },
     "execution_count": 67,
     "metadata": {},
     "output_type": "execute_result"
    },
    {
     "data": {
      "image/png": "[encoded data removed]",
      "text/plain": [
       "<Figure size 432x288 with 1 Axes>"
      ]
     },
     "metadata": {
      "needs_background": "light"
     },
     "output_type": "display_data"
    }
   ],
   "source": [
    "#Display the restored signal \n",
    "plt.plot(np.log(T), xs)"
   ]
  },
  {
   "cell_type": "code",
   "execution_count": 68,
   "metadata": {},
   "outputs": [],
   "source": [
    "#Douglas Rachford \n",
    "Id = np.eye(N,N)"
   ]
  },
  {
   "cell_type": "code",
   "execution_count": 69,
   "metadata": {},
   "outputs": [],
   "source": [
    "def prox_q(x,K,y,l):\n",
    "    prox = np.dot(np.linalg.inv(Id+np.dot(K.T,K)*l),x+l*np.dot((K.T),y))\n",
    "    return prox\n",
    "\n",
    "def d_r(init, steps,relax, proj=lambda x: x, proj1 = lambda x: x):\n",
    "   \n",
    "    xs = init\n",
    "    for step in steps:\n",
    "        ys = proj(xs)\n",
    "        zs = proj1(2*ys-xs)\n",
    "        xs = xs + relax * (zs - ys) \n",
    "    return ys"
   ]
  },
  {
   "cell_type": "code",
   "execution_count": 70,
   "metadata": {},
   "outputs": [],
   "source": [
    "gam = 0.01\n",
    "b = 0.000001\n",
    "l = gam * b\n",
    "proxa = lambda x : prox_q(x,K,y,gam)\n",
    "prox = lambda x : proxent(l,N,x)"
   ]
  },
  {
   "cell_type": "code",
   "execution_count": 71,
   "metadata": {},
   "outputs": [
    {
     "name": "stderr",
     "output_type": "stream",
     "text": [
      "/anaconda3/lib/python3.7/site-packages/ipykernel_launcher.py:12: ComplexWarning: Casting complex values to real discards the imaginary part\n",
      "  if sys.path[0] == '':\n"
     ]
    }
   ],
   "source": [
    "xs = d_r(x0,[gam]*10000,0.3,prox, proxa)"
   ]
  },
  {
   "cell_type": "code",
   "execution_count": 72,
   "metadata": {},
   "outputs": [
    {
     "data": {
      "text/plain": [
       "0.36564536843956574"
      ]
     },
     "execution_count": 72,
     "metadata": {},
     "output_type": "execute_result"
    }
   ],
   "source": [
    "e = np.linalg.norm(xs - x)**2/np.linalg.norm(x)**2\n",
    "e"
   ]
  },
  {
   "cell_type": "code",
   "execution_count": 73,
   "metadata": {},
   "outputs": [
    {
     "data": {
      "text/plain": [
       "[<matplotlib.lines.Line2D at 0x120ac66d8>]"
      ]
     },
     "execution_count": 73,
     "metadata": {},
     "output_type": "execute_result"
    },
    {
     "data": {
      "image/png": "[encoded data removed]",
      "text/plain": [
       "<Figure size 432x288 with 1 Axes>"
      ]
     },
     "metadata": {
      "needs_background": "light"
     },
     "output_type": "display_data"
    }
   ],
   "source": [
    "#Display the restored signal \n",
    "plt.plot(np.log(T), xs)"
   ]
  },
  {
   "cell_type": "code",
   "execution_count": 78,
   "metadata": {},
   "outputs": [],
   "source": [
    "#Find the best beta\n",
    "def calc_error2(b, gam, relax, K,x0,y):\n",
    "    l = b* gam\n",
    "    grad = lambda x : gradient2(K,x,y)\n",
    "    proxa = lambda x : prox_q(x,K,y,gam)\n",
    "    prox = lambda x : proxent(l,N,x)\n",
    "    xsfw = gradient_descent(x0,[gam]*10000,relax,grad,prox)\n",
    "    xsdr = d_r(x0,[gam]*10000,relax,prox, proxa)\n",
    "    erfw = np.linalg.norm(xsfw - x)**2/np.linalg.norm(x)**2\n",
    "    erdr = np.linalg.norm(xsdr - x)**2/np.linalg.norm(x)**2\n",
    "    print('For beta ={0}'.format(b))\n",
    "    print('The normalized quadratic error for FW is :{0}'.format(erfw))\n",
    "    print('The normalized quadratic error for DR is :{0}'.format(erdr))\n",
    "    return (erfw,erdr)"
   ]
  },
  {
   "cell_type": "code",
   "execution_count": 79,
   "metadata": {},
   "outputs": [
    {
     "name": "stdout",
     "output_type": "stream",
     "text": [
      "For beta =10\n",
      "The normalized quadratic error for FW is :54.66885440747666\n",
      "The normalized quadratic error for DR is :22.26605372856586\n"
     ]
    },
    {
     "name": "stderr",
     "output_type": "stream",
     "text": [
      "/anaconda3/lib/python3.7/site-packages/ipykernel_launcher.py:12: ComplexWarning: Casting complex values to real discards the imaginary part\n",
      "  if sys.path[0] == '':\n"
     ]
    },
    {
     "name": "stdout",
     "output_type": "stream",
     "text": [
      "For beta =1\n",
      "The normalized quadratic error for FW is :2.329708601591818\n",
      "The normalized quadratic error for DR is :1.080341911000625\n",
      "For beta =0.1\n",
      "The normalized quadratic error for FW is :1.5604396723691443\n",
      "The normalized quadratic error for DR is :8.00698826083912\n",
      "For beta =0.01\n",
      "The normalized quadratic error for FW is :1.699733511827753\n",
      "The normalized quadratic error for DR is :21.088184696159765\n",
      "For beta =0.001\n",
      "The normalized quadratic error for FW is :0.26360461277791675\n",
      "The normalized quadratic error for DR is :4.576313095208825\n",
      "For beta =0.0001\n",
      "The normalized quadratic error for FW is :0.1694298701782958\n",
      "The normalized quadratic error for DR is :2.1137722389843074\n",
      "For beta =1e-05\n",
      "The normalized quadratic error for FW is :0.13880880162516815\n",
      "The normalized quadratic error for DR is :0.39677942985269643\n",
      "For beta =1e-06\n",
      "The normalized quadratic error for FW is :0.13988208854843187\n",
      "The normalized quadratic error for DR is :0.36564536843956574\n"
     ]
    }
   ],
   "source": [
    "param_grid = {'b': [10, 1, 0.1, 0.01, 0.001, 0.0001, 0.00001, 0.000001]}\n",
    "grid = ParameterGrid(param_grid)\n",
    "\n",
    "for params in grid:\n",
    "    calc_error2(params['b'],0.01,0.3, K, x0, y)"
   ]
  },
  {
   "cell_type": "markdown",
   "metadata": {},
   "source": [
    "# Question 6:\n",
    "The best choice for beta is 𝛽=10−6\n",
    "\n",
    "# Question 7:\n",
    "The errors obtained using the maximum entropy regularization are lower than previous regularizations functions. "
   ]
  }
 ],
 "metadata": {
  "kernelspec": {
   "display_name": "Python 3",
   "language": "python",
   "name": "python3"
  },
  "language_info": {
   "codemirror_mode": {
    "name": "ipython",
    "version": 3
   },
   "file_extension": ".py",
   "mimetype": "text/x-python",
   "name": "python",
   "nbconvert_exporter": "python",
   "pygments_lexer": "ipython3",
   "version": "3.6.7"
  }
 },
 "nbformat": 4,
 "nbformat_minor": 2
}
